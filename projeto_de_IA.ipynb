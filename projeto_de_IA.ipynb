{
  "nbformat": 4,
  "nbformat_minor": 0,
  "metadata": {
    "colab": {
      "provenance": [],
      "authorship_tag": "ABX9TyORcZEnNarJeIx9bCsSSMZ7",
      "include_colab_link": true
    },
    "kernelspec": {
      "name": "python3",
      "display_name": "Python 3"
    },
    "language_info": {
      "name": "python"
    }
  },
  "cells": [
    {
      "cell_type": "markdown",
      "metadata": {
        "id": "view-in-github",
        "colab_type": "text"
      },
      "source": [
        "<a href=\"https://colab.research.google.com/github/ACROCKANDROLL/ACROCKANDROLL/blob/main/projeto_de_IA.ipynb\" target=\"_parent\"><img src=\"https://colab.research.google.com/assets/colab-badge.svg\" alt=\"Open In Colab\"/></a>"
      ]
    },
    {
      "cell_type": "code",
      "source": [
        "import re\n",
        "\n",
        "# Dicionário de palavras e frases por emoção (em português)\n",
        "emotion_keywords = {\n",
        "    'amor': ['amor', 'adorar', 'apaixonado', 'carinho', 'romântico', 'afetuoso'],\n",
        "    'raiva': ['raiva', 'furioso', 'irado', 'irritado', 'frustrado', 'enervado'],\n",
        "    'triste': ['triste', 'infeliz', 'tristeza', 'deprimido', 'desolado', 'melancólico'],\n",
        "    'feliz': ['feliz', 'alegre', 'satisfeito', 'encantado', 'animado', 'contente'],\n",
        "    'engraçado': ['engraçado', 'hilário', 'divertido', 'piada', 'humor', 'brincadeira'],\n",
        "    'sério': ['sério', 'formal', 'profissional', 'oficial', 'importante', 'grave'],\n",
        "}\n",
        "\n",
        "def classify_emotions(text):\n",
        "    # Normalização do texto\n",
        "    text = text.lower()\n",
        "    words = re.findall(r'\\w+', text)  # Quebra o texto em palavras\n",
        "    emotion_scores = {emotion: 0 for emotion in emotion_keywords}\n",
        "\n",
        "    # Contar ocorrências de palavras associadas a emoções\n",
        "    for word in words:\n",
        "        for emotion, keywords in emotion_keywords.items():\n",
        "            if word in keywords:\n",
        "                emotion_scores[emotion] += 1\n",
        "\n",
        "    # Encontrar todas as emoções com pontuação maior que 0\n",
        "    identified_emotions = [emotion for emotion, score in emotion_scores.items() if score > 0]\n",
        "\n",
        "    if identified_emotions:\n",
        "        return identified_emotions\n",
        "    else:\n",
        "        return [\"Não identificado\"]\n",
        "\n",
        "def main():\n",
        "    print(\"Digite o texto que você gostaria de analisar (pressione Enter para finalizar):\")\n",
        "    input_text = \"\"\n",
        "\n",
        "    while True:\n",
        "        line = input()\n",
        "        if line == \"\":\n",
        "            break\n",
        "        input_text += line + \" \"\n",
        "\n",
        "    # Classificar emoções do texto inserido\n",
        "    emotions = classify_emotions(input_text)\n",
        "    print(f\"Texto: {input_text}\\nEmoções identificadas: {', '.join(emotions)}\")\n",
        "\n",
        "if __name__ == \"__main__\":\n",
        "    main()"
      ],
      "metadata": {
        "colab": {
          "base_uri": "https://localhost:8080/"
        },
        "id": "mHrlOb4GZuhf",
        "outputId": "705a4352-fd29-449a-e271-a3b577415416"
      },
      "execution_count": null,
      "outputs": [
        {
          "output_type": "stream",
          "name": "stdout",
          "text": [
            "Digite o texto que você gostaria de analisar (pressione Enter para finalizar):\n",
            "amor\n",
            "\n",
            "Texto: amor \n",
            "Emoções identificadas: amor\n"
          ]
        }
      ]
    }
  ]
}